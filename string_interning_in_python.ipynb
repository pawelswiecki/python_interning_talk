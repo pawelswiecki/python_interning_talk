{
 "cells": [
  {
   "cell_type": "markdown",
   "metadata": {},
   "source": [
    "![](img/logo.png)"
   ]
  },
  {
   "cell_type": "markdown",
   "metadata": {},
   "source": [
    "# String Interning in Python 3.6"
   ]
  },
  {
   "cell_type": "code",
   "execution_count": 1,
   "metadata": {},
   "outputs": [
    {
     "data": {
      "text/plain": [
       "'3.6.5 (default, Mar 29 2018, 03:28:50) \\n[GCC 5.4.0 20160609]'"
      ]
     },
     "execution_count": 1,
     "metadata": {},
     "output_type": "execute_result"
    }
   ],
   "source": [
    "import sys\n",
    "sys.version"
   ]
  },
  {
   "cell_type": "code",
   "execution_count": 2,
   "metadata": {},
   "outputs": [],
   "source": [
    "s1 = 'parrot_is_dead'\n",
    "s2 = 'parrot_is_dead'"
   ]
  },
  {
   "cell_type": "code",
   "execution_count": 3,
   "metadata": {},
   "outputs": [
    {
     "data": {
      "text/plain": [
       "True"
      ]
     },
     "execution_count": 3,
     "metadata": {},
     "output_type": "execute_result"
    }
   ],
   "source": [
    "s1 == s2"
   ]
  },
  {
   "cell_type": "code",
   "execution_count": 4,
   "metadata": {},
   "outputs": [
    {
     "data": {
      "text/plain": [
       "True"
      ]
     },
     "execution_count": 4,
     "metadata": {},
     "output_type": "execute_result"
    }
   ],
   "source": [
    "s1 is s2"
   ]
  },
  {
   "cell_type": "code",
   "execution_count": 5,
   "metadata": {},
   "outputs": [
    {
     "data": {
      "text/plain": [
       "(139784549578800, 139784549578800)"
      ]
     },
     "execution_count": 5,
     "metadata": {},
     "output_type": "execute_result"
    }
   ],
   "source": [
    "id(s1), id(s2)"
   ]
  },
  {
   "cell_type": "markdown",
   "metadata": {},
   "source": [
    "`s1` and `s2` refer to **the same object** in memory. It makes sense, since strings are immutable."
   ]
  },
  {
   "cell_type": "markdown",
   "metadata": {},
   "source": [
    "This behavior of strings is called **interning**. It's kinda like caching.\n",
    "\n",
    "> In computer science, **string interning** is a method of storing only one copy of each distinct string value, which must be immutable. Interning strings makes some string processing tasks more time- or space-efficient at the cost of requiring more time when the string is created or interned. The distinct values are stored in a **string intern pool**.\n",
    "\n",
    "[https://en.wikipedia.org/wiki/String_interning]"
   ]
  },
  {
   "cell_type": "code",
   "execution_count": 6,
   "metadata": {},
   "outputs": [
    {
     "data": {
      "text/plain": [
       "False"
      ]
     },
     "execution_count": 6,
     "metadata": {},
     "output_type": "execute_result"
    }
   ],
   "source": [
    "s3 = 'parrot is dead'\n",
    "s4 = 'parrot is dead'\n",
    "assert s3 == s4\n",
    "s3 is s4"
   ]
  },
  {
   "cell_type": "markdown",
   "metadata": {},
   "source": [
    "`s3` and `s4` refer to **different objects** in memory. Why?"
   ]
  },
  {
   "cell_type": "markdown",
   "metadata": {},
   "source": [
    "This is not a matter of length:"
   ]
  },
  {
   "cell_type": "code",
   "execution_count": 7,
   "metadata": {},
   "outputs": [
    {
     "data": {
      "text/plain": [
       "True"
      ]
     },
     "execution_count": 7,
     "metadata": {},
     "output_type": "execute_result"
    }
   ],
   "source": [
    "len(s1) == len(s2) == len(s3) == len(s4)"
   ]
  },
  {
   "cell_type": "markdown",
   "metadata": {},
   "source": [
    "![](img/thinking.png)"
   ]
  },
  {
   "cell_type": "markdown",
   "metadata": {},
   "source": [
    "## Implementation of string interning"
   ]
  },
  {
   "cell_type": "markdown",
   "metadata": {},
   "source": [
    "[**`PyUnicode_InternInPlace`**](https://github.com/python/cpython/blob/master/Doc/c-api/unicode.rst)\n",
    "```\n",
    ".. c:function:: void PyUnicode_InternInPlace(PyObject **string)\n",
    "\n",
    "   Intern the argument *\\*string* in place.  The argument must be the address of a\n",
    "   pointer variable pointing to a Python unicode string object.  If there is an\n",
    "   existing interned string that is the same as *\\*string*, it sets *\\*string* to\n",
    "   it [...].\n",
    "```\n",
    "\n",
    "\n",
    "source-code: https://github.com/python/cpython/blob/master/Objects/unicodeobject.c#L15170"
   ]
  },
  {
   "cell_type": "markdown",
   "metadata": {},
   "source": [
    "So it's all about making the pointer to refer to string object that's already there."
   ]
  },
  {
   "cell_type": "markdown",
   "metadata": {},
   "source": [
    "`PyUnicode_InternInPlace` is called by **`intern_string_constants`**, which *probably* is what we are looking for [[source](https://github.com/python/cpython/blob/b7e1eff8436f6e0c4aac440036092fcf96f82960/Objects/codeobject.c#L47)].\n",
    "\n",
    "It checks if **`all_name_chars()`** returns 1. \n",
    "\n",
    "It's implemented in the following way:\n",
    "\n",
    "```C\n",
    "all_name_chars(PyObject *o)\n",
    "{\n",
    "    const unsigned char *s, *e;\n",
    "\n",
    "    if (!PyUnicode_IS_ASCII(o))\n",
    "        return 0;\n",
    "\n",
    "    s = PyUnicode_1BYTE_DATA(o);\n",
    "    e = s + PyUnicode_GET_LENGTH(o);\n",
    "    for (; s != e; s++) {\n",
    "        if (!Py_ISALNUM(*s) && *s != '_')\n",
    "            return 0;\n",
    "    }\n",
    "    return 1;\n",
    "}\n",
    "```\n",
    "https://github.com/python/cpython/blob/b7e1eff8436f6e0c4aac440036092fcf96f82960/Objects/codeobject.c#L15\n",
    "\n",
    "\n",
    "\n",
    "\n"
   ]
  },
  {
   "cell_type": "code",
   "execution_count": 8,
   "metadata": {},
   "outputs": [
    {
     "data": {
      "text/plain": [
       "True"
      ]
     },
     "execution_count": 8,
     "metadata": {},
     "output_type": "execute_result"
    }
   ],
   "source": [
    "s1 = 'abc'\n",
    "s2 = 'abc'\n",
    "assert s1 == s2\n",
    "s1 is s2"
   ]
  },
  {
   "cell_type": "code",
   "execution_count": 9,
   "metadata": {},
   "outputs": [
    {
     "data": {
      "text/plain": [
       "False"
      ]
     },
     "execution_count": 9,
     "metadata": {},
     "output_type": "execute_result"
    }
   ],
   "source": [
    "s1 = 'a bc'\n",
    "s2 = 'a bc'\n",
    "assert s1 == s2\n",
    "s1 is s2"
   ]
  },
  {
   "cell_type": "code",
   "execution_count": 10,
   "metadata": {},
   "outputs": [
    {
     "data": {
      "text/plain": [
       "True"
      ]
     },
     "execution_count": 10,
     "metadata": {},
     "output_type": "execute_result"
    }
   ],
   "source": [
    "s1 = 'a_bc'\n",
    "s2 = 'a_bc'\n",
    "assert s1 == s2\n",
    "s1 is s2"
   ]
  },
  {
   "cell_type": "code",
   "execution_count": 11,
   "metadata": {},
   "outputs": [
    {
     "data": {
      "text/plain": [
       "False"
      ]
     },
     "execution_count": 11,
     "metadata": {},
     "output_type": "execute_result"
    }
   ],
   "source": [
    "s1 = 'a '\n",
    "s2 = 'a '\n",
    "assert s1 == s2\n",
    "s1 is s2"
   ]
  },
  {
   "cell_type": "code",
   "execution_count": 12,
   "metadata": {},
   "outputs": [
    {
     "data": {
      "text/plain": [
       "False"
      ]
     },
     "execution_count": 12,
     "metadata": {},
     "output_type": "execute_result"
    }
   ],
   "source": [
    "s1 = 'a '\n",
    "s2 = 'a '\n",
    "assert s1 == s2\n",
    "s1 is s2"
   ]
  },
  {
   "cell_type": "code",
   "execution_count": 13,
   "metadata": {},
   "outputs": [
    {
     "data": {
      "text/plain": [
       "False"
      ]
     },
     "execution_count": 13,
     "metadata": {},
     "output_type": "execute_result"
    }
   ],
   "source": [
    "s1 = '##'\n",
    "s2 = '##'\n",
    "assert s1 == s2\n",
    "s1 is s2"
   ]
  },
  {
   "cell_type": "code",
   "execution_count": 14,
   "metadata": {},
   "outputs": [
    {
     "data": {
      "text/plain": [
       "False"
      ]
     },
     "execution_count": 14,
     "metadata": {},
     "output_type": "execute_result"
    }
   ],
   "source": [
    "s1 = '!!'\n",
    "s2 = '!!'\n",
    "assert s1 == s2\n",
    "s1 is s2"
   ]
  },
  {
   "cell_type": "code",
   "execution_count": 15,
   "metadata": {},
   "outputs": [],
   "source": [
    "# But..."
   ]
  },
  {
   "cell_type": "code",
   "execution_count": 16,
   "metadata": {},
   "outputs": [
    {
     "data": {
      "text/plain": [
       "True"
      ]
     },
     "execution_count": 16,
     "metadata": {},
     "output_type": "execute_result"
    }
   ],
   "source": [
    "s1 = '#'\n",
    "s2 = '#'\n",
    "assert s1 == s2\n",
    "s1 is s2"
   ]
  },
  {
   "cell_type": "code",
   "execution_count": 17,
   "metadata": {},
   "outputs": [
    {
     "data": {
      "text/plain": [
       "True"
      ]
     },
     "execution_count": 17,
     "metadata": {},
     "output_type": "execute_result"
    }
   ],
   "source": [
    "s1 = '!'\n",
    "s2 = '!'\n",
    "assert s1 == s2\n",
    "s1 is s2"
   ]
  },
  {
   "cell_type": "markdown",
   "metadata": {},
   "source": [
    "One-letter strings seem to be interned by default."
   ]
  },
  {
   "cell_type": "markdown",
   "metadata": {},
   "source": [
    "### Also..."
   ]
  },
  {
   "cell_type": "markdown",
   "metadata": {},
   "source": [
    "Strings created by string concatenation or `format` are not interned as well:"
   ]
  },
  {
   "cell_type": "code",
   "execution_count": 18,
   "metadata": {},
   "outputs": [
    {
     "data": {
      "text/plain": [
       "False"
      ]
     },
     "execution_count": 18,
     "metadata": {},
     "output_type": "execute_result"
    }
   ],
   "source": [
    "s1 = 'a_parrot'\n",
    "s1 += '_is_dead'\n",
    "s2 = 'a_parrot_is_dead'\n",
    "assert s1 == s2\n",
    "s1 is s2"
   ]
  },
  {
   "cell_type": "code",
   "execution_count": 19,
   "metadata": {},
   "outputs": [
    {
     "data": {
      "text/plain": [
       "False"
      ]
     },
     "execution_count": 19,
     "metadata": {},
     "output_type": "execute_result"
    }
   ],
   "source": [
    "s1 = 'parrot{}'.format('_ded')\n",
    "s2 = 'parrot_ded'\n",
    "assert s1 == s2\n",
    "s1 is s2"
   ]
  },
  {
   "cell_type": "markdown",
   "metadata": {},
   "source": [
    "## Forcing string interning"
   ]
  },
  {
   "cell_type": "code",
   "execution_count": 20,
   "metadata": {},
   "outputs": [],
   "source": [
    "from sys import intern"
   ]
  },
  {
   "cell_type": "code",
   "execution_count": 21,
   "metadata": {},
   "outputs": [
    {
     "data": {
      "text/plain": [
       "True"
      ]
     },
     "execution_count": 21,
     "metadata": {},
     "output_type": "execute_result"
    }
   ],
   "source": [
    "s1 = intern('abc')\n",
    "s2 = intern('abc')\n",
    "assert s1 == s2\n",
    "s1 is s2\n",
    "# no change, as expected"
   ]
  },
  {
   "cell_type": "code",
   "execution_count": 22,
   "metadata": {},
   "outputs": [
    {
     "data": {
      "text/plain": [
       "True"
      ]
     },
     "execution_count": 22,
     "metadata": {},
     "output_type": "execute_result"
    }
   ],
   "source": [
    "s1 = intern('a ')\n",
    "s2 = intern('a ')\n",
    "assert s1 == s2\n",
    "s1 is s2"
   ]
  },
  {
   "cell_type": "code",
   "execution_count": 23,
   "metadata": {},
   "outputs": [
    {
     "data": {
      "text/plain": [
       "True"
      ]
     },
     "execution_count": 23,
     "metadata": {},
     "output_type": "execute_result"
    }
   ],
   "source": [
    "s1 = 'the_parrot'\n",
    "s1 += '_is_dead'\n",
    "s1 = intern(s1)\n",
    "\n",
    "s2 = 'the_parrot_is_dead'  # already interned (no \"special\" chars)\n",
    "\n",
    "assert s1 == s2\n",
    "s1 is s2"
   ]
  },
  {
   "cell_type": "code",
   "execution_count": 24,
   "metadata": {},
   "outputs": [
    {
     "data": {
      "text/plain": [
       "True"
      ]
     },
     "execution_count": 24,
     "metadata": {},
     "output_type": "execute_result"
    }
   ],
   "source": [
    "s1 = intern('the parrot {}'.format('is ded :('))\n",
    "s2 = intern('the parrot is ded :(')\n",
    "assert s1 == s2\n",
    "s1 is s2"
   ]
  },
  {
   "cell_type": "markdown",
   "metadata": {},
   "source": [
    "### Use-cases\n",
    "\n",
    "- Loading big string-heavy dataset into Python (e.g. from huge CSV file).\n",
    "\n",
    "- ..."
   ]
  },
  {
   "cell_type": "markdown",
   "metadata": {},
   "source": [
    "### Thanks!"
   ]
  }
 ],
 "metadata": {
  "kernelspec": {
   "display_name": "Python 3",
   "language": "python",
   "name": "python3"
  },
  "language_info": {
   "codemirror_mode": {
    "name": "ipython",
    "version": 3
   },
   "file_extension": ".py",
   "mimetype": "text/x-python",
   "name": "python",
   "nbconvert_exporter": "python",
   "pygments_lexer": "ipython3",
   "version": "3.6.5"
  }
 },
 "nbformat": 4,
 "nbformat_minor": 2
}
